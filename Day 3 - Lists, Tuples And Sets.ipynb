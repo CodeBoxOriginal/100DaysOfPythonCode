{
 "cells": [
  {
   "cell_type": "markdown",
   "id": "broke-falls",
   "metadata": {},
   "source": [
    "# Day 3 - List, Tuples And Dictionaries"
   ]
  },
  {
   "cell_type": "markdown",
   "id": "essential-realtor",
   "metadata": {},
   "source": [
    "## 3.1. Defining List"
   ]
  },
  {
   "cell_type": "code",
   "execution_count": 1,
   "id": "broad-bronze",
   "metadata": {},
   "outputs": [],
   "source": [
    "x = [88, 92, 78, 90, 98, 84]"
   ]
  },
  {
   "cell_type": "code",
   "execution_count": 3,
   "id": "overhead-event",
   "metadata": {},
   "outputs": [],
   "source": [
    "scores = [88, 92, 78, 90, 98, 84]"
   ]
  },
  {
   "cell_type": "code",
   "execution_count": 4,
   "id": "wanted-university",
   "metadata": {},
   "outputs": [
    {
     "name": "stdout",
     "output_type": "stream",
     "text": [
      "[88, 92, 78, 90, 98, 84]\n"
     ]
    }
   ],
   "source": [
    "print(scores)"
   ]
  },
  {
   "cell_type": "code",
   "execution_count": 5,
   "id": "desperate-small",
   "metadata": {},
   "outputs": [],
   "source": [
    "students = [\"Mark\", \"Amber\", \"Todd\", \"Anita\", \"Sandy\"]"
   ]
  },
  {
   "cell_type": "code",
   "execution_count": 6,
   "id": "incoming-consequence",
   "metadata": {},
   "outputs": [
    {
     "name": "stdout",
     "output_type": "stream",
     "text": [
      "['Mark', 'Amber', 'Todd', 'Anita', 'Sandy']\n"
     ]
    }
   ],
   "source": [
    "print(students)"
   ]
  },
  {
   "cell_type": "code",
   "execution_count": 7,
   "id": "seeing-pattern",
   "metadata": {},
   "outputs": [
    {
     "data": {
      "text/plain": [
       "['Mark', 'Amber', 'Todd', 'Anita', 'Sandy']"
      ]
     },
     "execution_count": 7,
     "metadata": {},
     "output_type": "execute_result"
    }
   ],
   "source": [
    "['Mark', 'Amber', 'Todd', 'Anita', 'Sandy']"
   ]
  },
  {
   "cell_type": "markdown",
   "id": "included-uzbekistan",
   "metadata": {},
   "source": [
    "## 3.2. Referencing List Items By Position"
   ]
  },
  {
   "cell_type": "code",
   "execution_count": 8,
   "id": "unable-panic",
   "metadata": {},
   "outputs": [],
   "source": [
    "students = [\"Mark\", \"Amber\", \"Todd\", \"Anita\", \"Sandy\"]"
   ]
  },
  {
   "cell_type": "code",
   "execution_count": 9,
   "id": "fourth-brazilian",
   "metadata": {},
   "outputs": [
    {
     "name": "stdout",
     "output_type": "stream",
     "text": [
      "Mark\n"
     ]
    }
   ],
   "source": [
    "print(students[0])"
   ]
  },
  {
   "cell_type": "code",
   "execution_count": 10,
   "id": "productive-regulation",
   "metadata": {},
   "outputs": [
    {
     "name": "stdout",
     "output_type": "stream",
     "text": [
      "84\n"
     ]
    }
   ],
   "source": [
    "scores = [88, 92, 78, 90, 84]\n",
    "print(scores[4])"
   ]
  },
  {
   "cell_type": "code",
   "execution_count": 11,
   "id": "macro-black",
   "metadata": {},
   "outputs": [
    {
     "ename": "IndexError",
     "evalue": "list index out of range",
     "output_type": "error",
     "traceback": [
      "\u001b[1;31m---------------------------------------------------------------------------\u001b[0m",
      "\u001b[1;31mIndexError\u001b[0m                                Traceback (most recent call last)",
      "\u001b[1;32m<ipython-input-11-881d324cf851>\u001b[0m in \u001b[0;36m<module>\u001b[1;34m\u001b[0m\n\u001b[0;32m      1\u001b[0m \u001b[0mscores\u001b[0m \u001b[1;33m=\u001b[0m \u001b[1;33m[\u001b[0m\u001b[1;36m88\u001b[0m\u001b[1;33m,\u001b[0m \u001b[1;36m92\u001b[0m\u001b[1;33m,\u001b[0m \u001b[1;36m78\u001b[0m\u001b[1;33m,\u001b[0m \u001b[1;36m90\u001b[0m\u001b[1;33m,\u001b[0m \u001b[1;36m84\u001b[0m\u001b[1;33m]\u001b[0m\u001b[1;33m\u001b[0m\u001b[1;33m\u001b[0m\u001b[0m\n\u001b[1;32m----> 2\u001b[1;33m \u001b[0mprint\u001b[0m\u001b[1;33m(\u001b[0m\u001b[0mscores\u001b[0m\u001b[1;33m[\u001b[0m\u001b[1;36m5\u001b[0m\u001b[1;33m]\u001b[0m\u001b[1;33m)\u001b[0m\u001b[1;33m\u001b[0m\u001b[1;33m\u001b[0m\u001b[0m\n\u001b[0m",
      "\u001b[1;31mIndexError\u001b[0m: list index out of range"
     ]
    }
   ],
   "source": [
    "scores = [88, 92, 78, 90, 84]\n",
    "print(scores[5])"
   ]
  },
  {
   "cell_type": "code",
   "execution_count": 12,
   "id": "impressed-pharmacology",
   "metadata": {},
   "outputs": [
    {
     "name": "stdout",
     "output_type": "stream",
     "text": [
      "84\n"
     ]
    }
   ],
   "source": [
    "scores = [88, 92, 78, 90, 84]\n",
    "print(scores[-1])"
   ]
  },
  {
   "cell_type": "code",
   "execution_count": 13,
   "id": "extraordinary-plymouth",
   "metadata": {},
   "outputs": [
    {
     "name": "stdout",
     "output_type": "stream",
     "text": [
      "90\n"
     ]
    }
   ],
   "source": [
    "scores = [88, 92, 78, 90, 84]\n",
    "print(scores[-2])"
   ]
  },
  {
   "cell_type": "markdown",
   "id": "unknown-incentive",
   "metadata": {},
   "source": [
    "## 3.3. Seeing Whether A List Contains An Item"
   ]
  },
  {
   "cell_type": "code",
   "execution_count": 20,
   "id": "chemical-looking",
   "metadata": {},
   "outputs": [],
   "source": [
    "students = [\"Mark\", \"Amber\", \"Todd\", \"Anita\", \"Sandy\"]"
   ]
  },
  {
   "cell_type": "code",
   "execution_count": 21,
   "id": "resident-merchant",
   "metadata": {},
   "outputs": [
    {
     "name": "stdout",
     "output_type": "stream",
     "text": [
      "True\n"
     ]
    }
   ],
   "source": [
    "has_anita = \"Anita\" in students\n",
    "print(has_anita)"
   ]
  },
  {
   "cell_type": "code",
   "execution_count": 22,
   "id": "dominican-irish",
   "metadata": {},
   "outputs": [
    {
     "name": "stdout",
     "output_type": "stream",
     "text": [
      "False\n"
     ]
    }
   ],
   "source": [
    "has_bob = \"Bob\" in students\n",
    "print(has_bob)"
   ]
  },
  {
   "cell_type": "code",
   "execution_count": 26,
   "id": "fifteen-intake",
   "metadata": {},
   "outputs": [
    {
     "name": "stdout",
     "output_type": "stream",
     "text": [
      "False\n"
     ]
    }
   ],
   "source": [
    "has_anita = \"anita\" in students\n",
    "print(has_anita)"
   ]
  },
  {
   "cell_type": "markdown",
   "id": "appropriate-third",
   "metadata": {},
   "source": [
    "## 3.4. Getting The Length Of A List"
   ]
  },
  {
   "cell_type": "code",
   "execution_count": 14,
   "id": "floating-victory",
   "metadata": {
    "scrolled": true
   },
   "outputs": [
    {
     "data": {
      "text/plain": [
       "5"
      ]
     },
     "execution_count": 14,
     "metadata": {},
     "output_type": "execute_result"
    }
   ],
   "source": [
    "len(scores)"
   ]
  },
  {
   "cell_type": "code",
   "execution_count": 15,
   "id": "dried-degree",
   "metadata": {},
   "outputs": [
    {
     "data": {
      "text/plain": [
       "5"
      ]
     },
     "execution_count": 15,
     "metadata": {},
     "output_type": "execute_result"
    }
   ],
   "source": [
    "len(students)"
   ]
  },
  {
   "cell_type": "markdown",
   "id": "nervous-revolution",
   "metadata": {},
   "source": [
    "## 3.5. Adding An Item To The End Of A List"
   ]
  },
  {
   "cell_type": "code",
   "execution_count": 16,
   "id": "quarterly-treatment",
   "metadata": {},
   "outputs": [
    {
     "name": "stdout",
     "output_type": "stream",
     "text": [
      "['Mark', 'Amber', 'Todd', 'Anita', 'Sandy']\n"
     ]
    }
   ],
   "source": [
    "students = [\"Mark\", \"Amber\", \"Todd\", \"Anita\", \"Sandy\"]\n",
    "print(students)"
   ]
  },
  {
   "cell_type": "code",
   "execution_count": 17,
   "id": "alike-alabama",
   "metadata": {},
   "outputs": [
    {
     "name": "stdout",
     "output_type": "stream",
     "text": [
      "['Mark', 'Amber', 'Todd', 'Anita', 'Sandy', 'Hisham']\n"
     ]
    }
   ],
   "source": [
    "students.append(\"Hisham\")\n",
    "print(students)"
   ]
  },
  {
   "cell_type": "code",
   "execution_count": 18,
   "id": "composite-copper",
   "metadata": {},
   "outputs": [
    {
     "name": "stdout",
     "output_type": "stream",
     "text": [
      "['Mark', 'Amber', 'Todd', 'Anita', 'Sandy', 'Hisham', 'Amanda']\n"
     ]
    }
   ],
   "source": [
    "new_student = \"Amanda\"\n",
    "students.append(new_student)\n",
    "\n",
    "print(students)"
   ]
  },
  {
   "cell_type": "markdown",
   "id": "naval-kitchen",
   "metadata": {},
   "source": [
    "## 3.6. Inserting An Item Into A List"
   ]
  },
  {
   "cell_type": "code",
   "execution_count": 19,
   "id": "funky-rachel",
   "metadata": {},
   "outputs": [
    {
     "name": "stdout",
     "output_type": "stream",
     "text": [
      "['Luke', 'Mark', 'Amber', 'Todd', 'Anita', 'Sandy']\n"
     ]
    }
   ],
   "source": [
    "students = [\"Mark\", \"Amber\", \"Todd\", \"Anita\", \"Sandy\"]\n",
    "student_name = \"Luke\"\n",
    "\n",
    "students.insert(0, student_name)\n",
    "print(students)"
   ]
  },
  {
   "cell_type": "markdown",
   "id": "union-checklist",
   "metadata": {},
   "source": [
    "## 3.7. Changing An Item In A List"
   ]
  },
  {
   "cell_type": "code",
   "execution_count": 27,
   "id": "elder-injury",
   "metadata": {},
   "outputs": [],
   "source": [
    "students = [\"Mark\", \"Amber\", \"Todd\", \"Anita\", \"Sandy\"]"
   ]
  },
  {
   "cell_type": "code",
   "execution_count": 28,
   "id": "regulation-canyon",
   "metadata": {},
   "outputs": [
    {
     "name": "stdout",
     "output_type": "stream",
     "text": [
      "Todd\n"
     ]
    }
   ],
   "source": [
    "print(students[2])"
   ]
  },
  {
   "cell_type": "code",
   "execution_count": 29,
   "id": "mineral-cuisine",
   "metadata": {},
   "outputs": [
    {
     "name": "stdout",
     "output_type": "stream",
     "text": [
      "['Mark', 'Amber', 'Hobart', 'Anita', 'Sandy']\n"
     ]
    }
   ],
   "source": [
    "students[2] = \"Hobart\"\n",
    "print(students)"
   ]
  },
  {
   "cell_type": "markdown",
   "id": "naval-market",
   "metadata": {},
   "source": [
    "## 3.8. Combining Lists"
   ]
  },
  {
   "cell_type": "code",
   "execution_count": 30,
   "id": "close-excerpt",
   "metadata": {},
   "outputs": [],
   "source": [
    "class1 = [\"Zara\", \"Lupe\", \"Hong\", \"Alberto\", \"Jake\"]\n",
    "class2 = [\"Huey\", \"Dewey\", \"Louie\", \"Nader\", \"Bubba\"]"
   ]
  },
  {
   "cell_type": "code",
   "execution_count": 31,
   "id": "mighty-deposit",
   "metadata": {},
   "outputs": [],
   "source": [
    "class1.extend(class2)"
   ]
  },
  {
   "cell_type": "code",
   "execution_count": 32,
   "id": "innocent-contest",
   "metadata": {},
   "outputs": [
    {
     "name": "stdout",
     "output_type": "stream",
     "text": [
      "['Zara', 'Lupe', 'Hong', 'Alberto', 'Jake', 'Huey', 'Dewey', 'Louie', 'Nader', 'Bubba']\n"
     ]
    }
   ],
   "source": [
    "print(class1)"
   ]
  },
  {
   "cell_type": "markdown",
   "id": "express-ottawa",
   "metadata": {},
   "source": [
    "## 3.9. Removing List Items"
   ]
  },
  {
   "cell_type": "code",
   "execution_count": 33,
   "id": "aware-staff",
   "metadata": {},
   "outputs": [],
   "source": [
    "letters = [\"A\", \"B\", \"C\", \"D\", \"E\", \"F\", \"G\", \"H\"]"
   ]
  },
  {
   "cell_type": "code",
   "execution_count": 34,
   "id": "promising-minimum",
   "metadata": {},
   "outputs": [],
   "source": [
    "letters.remove(\"F\")"
   ]
  },
  {
   "cell_type": "code",
   "execution_count": 35,
   "id": "coastal-posting",
   "metadata": {},
   "outputs": [
    {
     "name": "stdout",
     "output_type": "stream",
     "text": [
      "['A', 'B', 'C', 'D', 'E', 'G', 'H']\n"
     ]
    }
   ],
   "source": [
    "print(letters)"
   ]
  },
  {
   "cell_type": "code",
   "execution_count": 36,
   "id": "chubby-reliance",
   "metadata": {},
   "outputs": [],
   "source": [
    "letters = [\"A\", \"B\", \"C\", \"D\", \"E\", \"F\", \"G\", \"H\"]"
   ]
  },
  {
   "cell_type": "code",
   "execution_count": 37,
   "id": "clear-addiction",
   "metadata": {},
   "outputs": [
    {
     "data": {
      "text/plain": [
       "'A'"
      ]
     },
     "execution_count": 37,
     "metadata": {},
     "output_type": "execute_result"
    }
   ],
   "source": [
    "letters.pop(0)"
   ]
  },
  {
   "cell_type": "code",
   "execution_count": 38,
   "id": "referenced-wrestling",
   "metadata": {},
   "outputs": [
    {
     "data": {
      "text/plain": [
       "['B', 'C', 'D', 'E', 'F', 'G', 'H']"
      ]
     },
     "execution_count": 38,
     "metadata": {},
     "output_type": "execute_result"
    }
   ],
   "source": [
    "letters"
   ]
  },
  {
   "cell_type": "code",
   "execution_count": 39,
   "id": "stuffed-deficit",
   "metadata": {},
   "outputs": [
    {
     "data": {
      "text/plain": [
       "'H'"
      ]
     },
     "execution_count": 39,
     "metadata": {},
     "output_type": "execute_result"
    }
   ],
   "source": [
    "letters.pop()"
   ]
  },
  {
   "cell_type": "code",
   "execution_count": 40,
   "id": "arbitrary-aggregate",
   "metadata": {},
   "outputs": [
    {
     "data": {
      "text/plain": [
       "['B', 'C', 'D', 'E', 'F', 'G']"
      ]
     },
     "execution_count": 40,
     "metadata": {},
     "output_type": "execute_result"
    }
   ],
   "source": [
    "letters"
   ]
  },
  {
   "cell_type": "code",
   "execution_count": 41,
   "id": "genuine-leave",
   "metadata": {},
   "outputs": [],
   "source": [
    "del letters[3]"
   ]
  },
  {
   "cell_type": "code",
   "execution_count": 42,
   "id": "together-sauce",
   "metadata": {},
   "outputs": [
    {
     "data": {
      "text/plain": [
       "['B', 'C', 'D', 'F', 'G']"
      ]
     },
     "execution_count": 42,
     "metadata": {},
     "output_type": "execute_result"
    }
   ],
   "source": [
    "letters"
   ]
  },
  {
   "cell_type": "markdown",
   "id": "mexican-myanmar",
   "metadata": {},
   "source": [
    "## 3.10. Clearing Out List"
   ]
  },
  {
   "cell_type": "code",
   "execution_count": 43,
   "id": "varying-surfing",
   "metadata": {},
   "outputs": [],
   "source": [
    "letters.clear()"
   ]
  },
  {
   "cell_type": "code",
   "execution_count": 44,
   "id": "explicit-content",
   "metadata": {},
   "outputs": [
    {
     "data": {
      "text/plain": [
       "[]"
      ]
     },
     "execution_count": 44,
     "metadata": {},
     "output_type": "execute_result"
    }
   ],
   "source": [
    "letters"
   ]
  },
  {
   "cell_type": "markdown",
   "id": "metallic-paintball",
   "metadata": {},
   "source": [
    "## 3.11. Counting How Many Times An Item Appears In A List"
   ]
  },
  {
   "cell_type": "code",
   "execution_count": 45,
   "id": "technological-atlas",
   "metadata": {},
   "outputs": [],
   "source": [
    "letters = [\"A\", \"B\", \"C\", \"H\", \"E\", \"H\", \"G\", \"H\"]"
   ]
  },
  {
   "cell_type": "code",
   "execution_count": 46,
   "id": "productive-thread",
   "metadata": {},
   "outputs": [
    {
     "data": {
      "text/plain": [
       "8"
      ]
     },
     "execution_count": 46,
     "metadata": {},
     "output_type": "execute_result"
    }
   ],
   "source": [
    "len(letters)"
   ]
  },
  {
   "cell_type": "code",
   "execution_count": 47,
   "id": "faced-terror",
   "metadata": {},
   "outputs": [
    {
     "data": {
      "text/plain": [
       "3"
      ]
     },
     "execution_count": 47,
     "metadata": {},
     "output_type": "execute_result"
    }
   ],
   "source": [
    "letters.count(\"H\")"
   ]
  },
  {
   "cell_type": "code",
   "execution_count": 48,
   "id": "subjective-laugh",
   "metadata": {},
   "outputs": [
    {
     "data": {
      "text/plain": [
       "3"
      ]
     },
     "execution_count": 48,
     "metadata": {},
     "output_type": "execute_result"
    }
   ],
   "source": [
    "look_for = \"H\"\n",
    "letters.count(look_for)"
   ]
  },
  {
   "cell_type": "markdown",
   "id": "global-bridal",
   "metadata": {},
   "source": [
    "## 3.12. Finding an list item’s index"
   ]
  },
  {
   "cell_type": "code",
   "execution_count": 49,
   "id": "false-optimum",
   "metadata": {},
   "outputs": [],
   "source": [
    "letters = [\"A\", \"B\", \"C\", \"H\", \"E\", \"H\", \"G\", \"H\"]"
   ]
  },
  {
   "cell_type": "code",
   "execution_count": 50,
   "id": "painful-timothy",
   "metadata": {},
   "outputs": [
    {
     "data": {
      "text/plain": [
       "3"
      ]
     },
     "execution_count": 50,
     "metadata": {},
     "output_type": "execute_result"
    }
   ],
   "source": [
    "letters.index(\"H\")"
   ]
  },
  {
   "cell_type": "markdown",
   "id": "intense-webster",
   "metadata": {},
   "source": [
    "## 3.13. Sorting Lists"
   ]
  },
  {
   "cell_type": "code",
   "execution_count": 51,
   "id": "independent-cache",
   "metadata": {},
   "outputs": [],
   "source": [
    "letters.sort()"
   ]
  },
  {
   "cell_type": "code",
   "execution_count": 52,
   "id": "extended-receiver",
   "metadata": {},
   "outputs": [
    {
     "data": {
      "text/plain": [
       "['A', 'B', 'C', 'E', 'G', 'H', 'H', 'H']"
      ]
     },
     "execution_count": 52,
     "metadata": {},
     "output_type": "execute_result"
    }
   ],
   "source": [
    "letters"
   ]
  },
  {
   "cell_type": "code",
   "execution_count": 53,
   "id": "other-typing",
   "metadata": {},
   "outputs": [],
   "source": [
    "students = [\"Mark\", \"Amber\", \"Todd\", \"Anita\", \"Sandy\"]"
   ]
  },
  {
   "cell_type": "code",
   "execution_count": 54,
   "id": "proof-monitor",
   "metadata": {},
   "outputs": [
    {
     "name": "stdout",
     "output_type": "stream",
     "text": [
      "['Amber', 'Anita', 'Mark', 'Sandy', 'Todd']\n"
     ]
    }
   ],
   "source": [
    "students.sort()\n",
    "print(students)"
   ]
  },
  {
   "cell_type": "code",
   "execution_count": 55,
   "id": "dirty-exclusion",
   "metadata": {},
   "outputs": [
    {
     "name": "stdout",
     "output_type": "stream",
     "text": [
      "['Todd', 'Sandy', 'Mark', 'Anita', 'Amber']\n"
     ]
    }
   ],
   "source": [
    "students.sort(reverse=True)\n",
    "print(students)"
   ]
  },
  {
   "cell_type": "markdown",
   "id": "current-paraguay",
   "metadata": {},
   "source": [
    "## 3.14. Reversing A List"
   ]
  },
  {
   "cell_type": "code",
   "execution_count": 56,
   "id": "dedicated-canal",
   "metadata": {},
   "outputs": [],
   "source": [
    "students = [\"Mark\", \"Amber\", \"Todd\", \"Anita\", \"Sandy\"]"
   ]
  },
  {
   "cell_type": "code",
   "execution_count": 57,
   "id": "romantic-update",
   "metadata": {},
   "outputs": [
    {
     "name": "stdout",
     "output_type": "stream",
     "text": [
      "['Sandy', 'Anita', 'Todd', 'Amber', 'Mark']\n"
     ]
    }
   ],
   "source": [
    "students.reverse()\n",
    "print(students)"
   ]
  },
  {
   "cell_type": "markdown",
   "id": "diagnostic-homeless",
   "metadata": {},
   "source": [
    "## 3.15. Copying A List"
   ]
  },
  {
   "cell_type": "code",
   "execution_count": 62,
   "id": "covered-instrumentation",
   "metadata": {},
   "outputs": [],
   "source": [
    "students = [\"Mark\", \"Amber\", \"Todd\", \"Anita\", \"Sandy\"]"
   ]
  },
  {
   "cell_type": "code",
   "execution_count": 63,
   "id": "homeless-comedy",
   "metadata": {},
   "outputs": [
    {
     "name": "stdout",
     "output_type": "stream",
     "text": [
      "['Mark', 'Amber', 'Todd', 'Anita', 'Sandy']\n"
     ]
    }
   ],
   "source": [
    "reversed_names = students.copy()\n",
    "print(reversed_names)"
   ]
  },
  {
   "cell_type": "code",
   "execution_count": 64,
   "id": "contrary-sally",
   "metadata": {},
   "outputs": [
    {
     "name": "stdout",
     "output_type": "stream",
     "text": [
      "['Sandy', 'Anita', 'Todd', 'Amber', 'Mark']\n"
     ]
    }
   ],
   "source": [
    "reversed_names.reverse()\n",
    "print(reversed_names)"
   ]
  },
  {
   "cell_type": "code",
   "execution_count": 65,
   "id": "wound-knitting",
   "metadata": {},
   "outputs": [
    {
     "name": "stdout",
     "output_type": "stream",
     "text": [
      "['Mark', 'Amber', 'Todd', 'Anita', 'Sandy']\n"
     ]
    }
   ],
   "source": [
    "reversed_names.reverse()\n",
    "print(reversed_names)"
   ]
  },
  {
   "cell_type": "code",
   "execution_count": null,
   "id": "pressing-concentrate",
   "metadata": {},
   "outputs": [],
   "source": []
  },
  {
   "cell_type": "code",
   "execution_count": null,
   "id": "imposed-superior",
   "metadata": {},
   "outputs": [],
   "source": []
  },
  {
   "cell_type": "markdown",
   "id": "statewide-waste",
   "metadata": {},
   "source": [
    "## 3.16. Tuples"
   ]
  },
  {
   "cell_type": "code",
   "execution_count": 66,
   "id": "transparent-strategy",
   "metadata": {},
   "outputs": [],
   "source": [
    "student_grade = (\"Mark\", 90)"
   ]
  },
  {
   "cell_type": "code",
   "execution_count": 67,
   "id": "listed-bread",
   "metadata": {},
   "outputs": [
    {
     "name": "stdout",
     "output_type": "stream",
     "text": [
      "('Mark', 90)\n"
     ]
    }
   ],
   "source": [
    "print(student_grade)"
   ]
  },
  {
   "cell_type": "code",
   "execution_count": 68,
   "id": "facial-character",
   "metadata": {},
   "outputs": [
    {
     "data": {
      "text/plain": [
       "2"
      ]
     },
     "execution_count": 68,
     "metadata": {},
     "output_type": "execute_result"
    }
   ],
   "source": [
    "len(student_grade)"
   ]
  },
  {
   "cell_type": "code",
   "execution_count": 70,
   "id": "blond-exchange",
   "metadata": {},
   "outputs": [
    {
     "name": "stdout",
     "output_type": "stream",
     "text": [
      "1\n"
     ]
    }
   ],
   "source": [
    "print(student_grade.count(90))"
   ]
  },
  {
   "cell_type": "code",
   "execution_count": 71,
   "id": "promotional-insurance",
   "metadata": {},
   "outputs": [
    {
     "data": {
      "text/plain": [
       "True"
      ]
     },
     "execution_count": 71,
     "metadata": {},
     "output_type": "execute_result"
    }
   ],
   "source": [
    "\"Mark\" in student_grade"
   ]
  },
  {
   "cell_type": "code",
   "execution_count": 72,
   "id": "polish-country",
   "metadata": {},
   "outputs": [
    {
     "data": {
      "text/plain": [
       "90"
      ]
     },
     "execution_count": 72,
     "metadata": {},
     "output_type": "execute_result"
    }
   ],
   "source": [
    "student_grade[1]"
   ]
  },
  {
   "cell_type": "code",
   "execution_count": 73,
   "id": "divine-syndicate",
   "metadata": {},
   "outputs": [],
   "source": [
    "name, grade = student_grade"
   ]
  },
  {
   "cell_type": "code",
   "execution_count": 74,
   "id": "distinguished-liquid",
   "metadata": {},
   "outputs": [
    {
     "name": "stdout",
     "output_type": "stream",
     "text": [
      "Mark\n",
      "90\n"
     ]
    }
   ],
   "source": [
    "print(name)\n",
    "print(grade)"
   ]
  },
  {
   "cell_type": "markdown",
   "id": "collect-bahrain",
   "metadata": {},
   "source": [
    "## 3.17. Sets"
   ]
  },
  {
   "cell_type": "code",
   "execution_count": 75,
   "id": "supported-superintendent",
   "metadata": {},
   "outputs": [],
   "source": [
    "sample_set = {1.98, 98.9, 74.95, 2.5, 1, 16.3}"
   ]
  },
  {
   "cell_type": "code",
   "execution_count": 76,
   "id": "demanding-circuit",
   "metadata": {},
   "outputs": [
    {
     "name": "stdout",
     "output_type": "stream",
     "text": [
      "{16.3, 1.98, 98.9, 2.5, 1, 74.95}\n"
     ]
    }
   ],
   "source": [
    "print(sample_set)"
   ]
  },
  {
   "cell_type": "code",
   "execution_count": 77,
   "id": "according-trademark",
   "metadata": {},
   "outputs": [
    {
     "name": "stdout",
     "output_type": "stream",
     "text": [
      "{1, 2, 3, 4}\n"
     ]
    }
   ],
   "source": [
    "sample_set = {1, 2, 2, 3, 1, 4}\n",
    "print(sample_set)"
   ]
  },
  {
   "cell_type": "code",
   "execution_count": 79,
   "id": "yellow-granny",
   "metadata": {},
   "outputs": [
    {
     "name": "stdout",
     "output_type": "stream",
     "text": [
      "{1, 2, 3, 4, 5}\n"
     ]
    }
   ],
   "source": [
    "sample_set.add(5)\n",
    "print(sample_set)"
   ]
  },
  {
   "cell_type": "code",
   "execution_count": 80,
   "id": "electoral-spouse",
   "metadata": {},
   "outputs": [
    {
     "name": "stdout",
     "output_type": "stream",
     "text": [
      "{1, 2, 3, 4, 5}\n"
     ]
    }
   ],
   "source": [
    "sample_set.add(2)\n",
    "print(sample_set)"
   ]
  },
  {
   "cell_type": "code",
   "execution_count": 81,
   "id": "prerequisite-station",
   "metadata": {},
   "outputs": [],
   "source": [
    "sample_set.update([4,5,6,7,8])"
   ]
  },
  {
   "cell_type": "code",
   "execution_count": 82,
   "id": "chemical-despite",
   "metadata": {},
   "outputs": [
    {
     "name": "stdout",
     "output_type": "stream",
     "text": [
      "{1, 2, 3, 4, 5, 6, 7, 8}\n"
     ]
    }
   ],
   "source": [
    "print(sample_set)"
   ]
  },
  {
   "cell_type": "code",
   "execution_count": null,
   "id": "integrated-thing",
   "metadata": {},
   "outputs": [],
   "source": []
  }
 ],
 "metadata": {
  "kernelspec": {
   "display_name": "Python 3",
   "language": "python",
   "name": "python3"
  },
  "language_info": {
   "codemirror_mode": {
    "name": "ipython",
    "version": 3
   },
   "file_extension": ".py",
   "mimetype": "text/x-python",
   "name": "python",
   "nbconvert_exporter": "python",
   "pygments_lexer": "ipython3",
   "version": "3.9.7"
  }
 },
 "nbformat": 4,
 "nbformat_minor": 5
}
