{
 "cells": [
  {
   "cell_type": "markdown",
   "id": "valid-elizabeth",
   "metadata": {},
   "source": [
    "# Day 1 - We Are Just Getting Started."
   ]
  },
  {
   "cell_type": "markdown",
   "id": "impressive-robin",
   "metadata": {},
   "source": [
    "## 1.1. Your First Line"
   ]
  },
  {
   "cell_type": "code",
   "execution_count": 1,
   "id": "invisible-recommendation",
   "metadata": {},
   "outputs": [
    {
     "name": "stdout",
     "output_type": "stream",
     "text": [
      "Hello World!\n"
     ]
    }
   ],
   "source": [
    "print(\"Hello World!\")"
   ]
  },
  {
   "cell_type": "code",
   "execution_count": 2,
   "id": "dependent-glance",
   "metadata": {},
   "outputs": [
    {
     "data": {
      "text/plain": [
       "'Hello World!'"
      ]
     },
     "execution_count": 2,
     "metadata": {},
     "output_type": "execute_result"
    }
   ],
   "source": [
    "\"Hello World!\""
   ]
  },
  {
   "cell_type": "markdown",
   "id": "valid-crazy",
   "metadata": {},
   "source": [
    "## 1.2. Errors You Might Face"
   ]
  },
  {
   "cell_type": "code",
   "execution_count": 3,
   "id": "impressed-bridges",
   "metadata": {},
   "outputs": [
    {
     "name": "stdout",
     "output_type": "stream",
     "text": [
      "Hi There!\n"
     ]
    }
   ],
   "source": [
    "print(\"Hi There!\")"
   ]
  },
  {
   "cell_type": "code",
   "execution_count": 4,
   "id": "novel-equilibrium",
   "metadata": {},
   "outputs": [
    {
     "ename": "SyntaxError",
     "evalue": "invalid syntax (<ipython-input-4-5af2806678ff>, line 1)",
     "output_type": "error",
     "traceback": [
      "\u001b[1;36m  File \u001b[1;32m\"<ipython-input-4-5af2806678ff>\"\u001b[1;36m, line \u001b[1;32m1\u001b[0m\n\u001b[1;33m    print(Hi There!)\u001b[0m\n\u001b[1;37m             ^\u001b[0m\n\u001b[1;31mSyntaxError\u001b[0m\u001b[1;31m:\u001b[0m invalid syntax\n"
     ]
    }
   ],
   "source": [
    "print(Hi There!)"
   ]
  },
  {
   "cell_type": "code",
   "execution_count": 5,
   "id": "adjusted-reminder",
   "metadata": {},
   "outputs": [
    {
     "ename": "SyntaxError",
     "evalue": "EOL while scanning string literal (<ipython-input-5-457e54186076>, line 1)",
     "output_type": "error",
     "traceback": [
      "\u001b[1;36m  File \u001b[1;32m\"<ipython-input-5-457e54186076>\"\u001b[1;36m, line \u001b[1;32m1\u001b[0m\n\u001b[1;33m    print(\"Hi There!)\u001b[0m\n\u001b[1;37m                     ^\u001b[0m\n\u001b[1;31mSyntaxError\u001b[0m\u001b[1;31m:\u001b[0m EOL while scanning string literal\n"
     ]
    }
   ],
   "source": [
    "print(\"Hi There!)"
   ]
  },
  {
   "cell_type": "code",
   "execution_count": 6,
   "id": "tired-removal",
   "metadata": {},
   "outputs": [
    {
     "ename": "IndentationError",
     "evalue": "unexpected indent (<ipython-input-6-058bb9077cdd>, line 2)",
     "output_type": "error",
     "traceback": [
      "\u001b[1;36m  File \u001b[1;32m\"<ipython-input-6-058bb9077cdd>\"\u001b[1;36m, line \u001b[1;32m2\u001b[0m\n\u001b[1;33m    print(\"Hi There!\")\u001b[0m\n\u001b[1;37m    ^\u001b[0m\n\u001b[1;31mIndentationError\u001b[0m\u001b[1;31m:\u001b[0m unexpected indent\n"
     ]
    }
   ],
   "source": [
    "print(\"Hi There!\")\n",
    "  print(\"Hi There!\")"
   ]
  },
  {
   "cell_type": "code",
   "execution_count": 7,
   "id": "unnecessary-integrity",
   "metadata": {},
   "outputs": [
    {
     "name": "stdout",
     "output_type": "stream",
     "text": [
      "Hi There!\n",
      "Hi There!\n"
     ]
    }
   ],
   "source": [
    "print(\"Hi There!\")\n",
    "print(\"Hi There!\")"
   ]
  },
  {
   "cell_type": "markdown",
   "id": "bearing-watershed",
   "metadata": {},
   "source": [
    "## 1.3. Single vs. Double Quotes"
   ]
  },
  {
   "cell_type": "code",
   "execution_count": 8,
   "id": "continued-medium",
   "metadata": {},
   "outputs": [
    {
     "name": "stdout",
     "output_type": "stream",
     "text": [
      "Hi\n",
      "Hi\n"
     ]
    }
   ],
   "source": [
    "print('Hi')\n",
    "print(\"Hi\")"
   ]
  },
  {
   "cell_type": "code",
   "execution_count": 9,
   "id": "attached-december",
   "metadata": {},
   "outputs": [
    {
     "ename": "SyntaxError",
     "evalue": "EOL while scanning string literal (<ipython-input-9-491a71e41918>, line 1)",
     "output_type": "error",
     "traceback": [
      "\u001b[1;36m  File \u001b[1;32m\"<ipython-input-9-491a71e41918>\"\u001b[1;36m, line \u001b[1;32m1\u001b[0m\n\u001b[1;33m    print(\"Hi')\u001b[0m\n\u001b[1;37m               ^\u001b[0m\n\u001b[1;31mSyntaxError\u001b[0m\u001b[1;31m:\u001b[0m EOL while scanning string literal\n"
     ]
    }
   ],
   "source": [
    "print(\"Hi')"
   ]
  },
  {
   "cell_type": "code",
   "execution_count": 10,
   "id": "committed-banking",
   "metadata": {},
   "outputs": [
    {
     "name": "stdout",
     "output_type": "stream",
     "text": [
      "Hi, I am 'Hisham'\n"
     ]
    }
   ],
   "source": [
    "print(\"Hi, I am 'Hisham'\")"
   ]
  },
  {
   "cell_type": "code",
   "execution_count": 11,
   "id": "right-commodity",
   "metadata": {},
   "outputs": [
    {
     "name": "stdout",
     "output_type": "stream",
     "text": [
      "Hi, I am \"Hisham\"\n"
     ]
    }
   ],
   "source": [
    "print('Hi, I am \"Hisham\"')"
   ]
  },
  {
   "cell_type": "code",
   "execution_count": 12,
   "id": "internal-huntington",
   "metadata": {},
   "outputs": [
    {
     "ename": "SyntaxError",
     "evalue": "invalid syntax (<ipython-input-12-4f447924eb11>, line 1)",
     "output_type": "error",
     "traceback": [
      "\u001b[1;36m  File \u001b[1;32m\"<ipython-input-12-4f447924eb11>\"\u001b[1;36m, line \u001b[1;32m1\u001b[0m\n\u001b[1;33m    print(\"Hi, I am \"Hisham\"\")\u001b[0m\n\u001b[1;37m                     ^\u001b[0m\n\u001b[1;31mSyntaxError\u001b[0m\u001b[1;31m:\u001b[0m invalid syntax\n"
     ]
    }
   ],
   "source": [
    "print(\"Hi, I am \"Hisham\"\")"
   ]
  },
  {
   "cell_type": "markdown",
   "id": "hairy-single",
   "metadata": {},
   "source": [
    "## 1.4. Reading From User"
   ]
  },
  {
   "cell_type": "code",
   "execution_count": 13,
   "id": "appointed-laser",
   "metadata": {},
   "outputs": [
    {
     "name": "stdout",
     "output_type": "stream",
     "text": [
      "What's your name?\n"
     ]
    }
   ],
   "source": [
    "print(\"What's your name?\")"
   ]
  },
  {
   "cell_type": "code",
   "execution_count": 14,
   "id": "unavailable-import",
   "metadata": {},
   "outputs": [
    {
     "name": "stdout",
     "output_type": "stream",
     "text": [
      "What's your name?Hisham\n"
     ]
    },
    {
     "data": {
      "text/plain": [
       "'Hisham'"
      ]
     },
     "execution_count": 14,
     "metadata": {},
     "output_type": "execute_result"
    }
   ],
   "source": [
    "input(\"What's your name?\")"
   ]
  },
  {
   "cell_type": "code",
   "execution_count": 15,
   "id": "proved-therapist",
   "metadata": {},
   "outputs": [
    {
     "data": {
      "text/plain": [
       "2"
      ]
     },
     "execution_count": 15,
     "metadata": {},
     "output_type": "execute_result"
    }
   ],
   "source": [
    "1 + 1"
   ]
  },
  {
   "cell_type": "code",
   "execution_count": 16,
   "id": "artistic-malawi",
   "metadata": {},
   "outputs": [
    {
     "name": "stdout",
     "output_type": "stream",
     "text": [
      "What is 1+1 equals?2\n"
     ]
    },
    {
     "data": {
      "text/plain": [
       "'2'"
      ]
     },
     "execution_count": 16,
     "metadata": {},
     "output_type": "execute_result"
    }
   ],
   "source": [
    "input(\"What is 1+1 equals?\")"
   ]
  },
  {
   "cell_type": "code",
   "execution_count": 17,
   "id": "juvenile-newfoundland",
   "metadata": {},
   "outputs": [
    {
     "name": "stdout",
     "output_type": "stream",
     "text": [
      "What's your name?Hisham.\n",
      "Hello Hisham.\n"
     ]
    }
   ],
   "source": [
    "print(\"Hello \" + input(\"What's your name?\"))"
   ]
  },
  {
   "cell_type": "markdown",
   "id": "catholic-lambda",
   "metadata": {},
   "source": [
    "## 1.5. Play with Strings"
   ]
  },
  {
   "cell_type": "code",
   "execution_count": 18,
   "id": "interracial-ocean",
   "metadata": {},
   "outputs": [
    {
     "name": "stdout",
     "output_type": "stream",
     "text": [
      "Hello World!\n",
      "I am here!\n"
     ]
    }
   ],
   "source": [
    "print(\"Hello World!\")\n",
    "print(\"I am here!\")"
   ]
  },
  {
   "cell_type": "code",
   "execution_count": 19,
   "id": "decreased-bachelor",
   "metadata": {},
   "outputs": [
    {
     "name": "stdout",
     "output_type": "stream",
     "text": [
      "Hello World!\n",
      "I am here!\n"
     ]
    }
   ],
   "source": [
    "print(\"Hello World!\\nI am here!\")"
   ]
  },
  {
   "cell_type": "code",
   "execution_count": 20,
   "id": "middle-breathing",
   "metadata": {},
   "outputs": [
    {
     "name": "stdout",
     "output_type": "stream",
     "text": [
      "Hello World!\tI am here!\n"
     ]
    }
   ],
   "source": [
    "print(\"Hello World!\\tI am here!\")"
   ]
  },
  {
   "cell_type": "code",
   "execution_count": 21,
   "id": "studied-court",
   "metadata": {},
   "outputs": [
    {
     "name": "stdout",
     "output_type": "stream",
     "text": [
      "Hello World!I am here!\n"
     ]
    }
   ],
   "source": [
    "print(\"Hello World!\" + \"I am here!\")"
   ]
  },
  {
   "cell_type": "code",
   "execution_count": 22,
   "id": "metropolitan-overhead",
   "metadata": {},
   "outputs": [
    {
     "name": "stdout",
     "output_type": "stream",
     "text": [
      "Hello World! I am here!\n",
      "Hello World! I am here!\n"
     ]
    }
   ],
   "source": [
    "print(\"Hello World! \" + \"I am here!\")\n",
    "print(\"Hello World!\" + \" \" + \"I am here!\")"
   ]
  },
  {
   "cell_type": "code",
   "execution_count": 23,
   "id": "decent-connection",
   "metadata": {},
   "outputs": [
    {
     "ename": "TypeError",
     "evalue": "unsupported operand type(s) for -: 'str' and 'str'",
     "output_type": "error",
     "traceback": [
      "\u001b[1;31m---------------------------------------------------------------------------\u001b[0m",
      "\u001b[1;31mTypeError\u001b[0m                                 Traceback (most recent call last)",
      "\u001b[1;32m<ipython-input-23-176ac6e5b9d8>\u001b[0m in \u001b[0;36m<module>\u001b[1;34m\u001b[0m\n\u001b[1;32m----> 1\u001b[1;33m \u001b[0mprint\u001b[0m\u001b[1;33m(\u001b[0m\u001b[1;34m\"Hello World! \"\u001b[0m \u001b[1;33m-\u001b[0m \u001b[1;34m\"I am here!\"\u001b[0m\u001b[1;33m)\u001b[0m\u001b[1;33m\u001b[0m\u001b[1;33m\u001b[0m\u001b[0m\n\u001b[0m",
      "\u001b[1;31mTypeError\u001b[0m: unsupported operand type(s) for -: 'str' and 'str'"
     ]
    }
   ],
   "source": [
    "print(\"Hello World! \" - \"I am here!\")"
   ]
  },
  {
   "cell_type": "code",
   "execution_count": null,
   "id": "cross-folder",
   "metadata": {},
   "outputs": [],
   "source": []
  }
 ],
 "metadata": {
  "kernelspec": {
   "display_name": "Python 3",
   "language": "python",
   "name": "python3"
  },
  "language_info": {
   "codemirror_mode": {
    "name": "ipython",
    "version": 3
   },
   "file_extension": ".py",
   "mimetype": "text/x-python",
   "name": "python",
   "nbconvert_exporter": "python",
   "pygments_lexer": "ipython3",
   "version": "3.9.7"
  }
 },
 "nbformat": 4,
 "nbformat_minor": 5
}
