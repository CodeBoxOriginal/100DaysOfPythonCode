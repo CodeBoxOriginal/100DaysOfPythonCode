{
 "cells": [
  {
   "cell_type": "markdown",
   "id": "printable-entrance",
   "metadata": {},
   "source": [
    "# Day 4 - What If..."
   ]
  },
  {
   "cell_type": "markdown",
   "id": "color-being",
   "metadata": {},
   "source": [
    "## 4.1. How to Compare"
   ]
  },
  {
   "cell_type": "code",
   "execution_count": 1,
   "id": "operating-detective",
   "metadata": {},
   "outputs": [
    {
     "name": "stdout",
     "output_type": "stream",
     "text": [
      "True\n"
     ]
    }
   ],
   "source": [
    "x = 4\n",
    "y = 4\n",
    "print(x == y)"
   ]
  },
  {
   "cell_type": "code",
   "execution_count": 2,
   "id": "mechanical-thailand",
   "metadata": {},
   "outputs": [
    {
     "name": "stdout",
     "output_type": "stream",
     "text": [
      "False\n"
     ]
    }
   ],
   "source": [
    "x = 4\n",
    "y = 5\n",
    "print(x == y)"
   ]
  },
  {
   "cell_type": "code",
   "execution_count": 3,
   "id": "activated-quest",
   "metadata": {},
   "outputs": [
    {
     "name": "stdout",
     "output_type": "stream",
     "text": [
      "False\n"
     ]
    }
   ],
   "source": [
    "x = 4\n",
    "y = 4\n",
    "print(x != y)"
   ]
  },
  {
   "cell_type": "code",
   "execution_count": 4,
   "id": "forbidden-entertainment",
   "metadata": {},
   "outputs": [
    {
     "name": "stdout",
     "output_type": "stream",
     "text": [
      "True\n"
     ]
    }
   ],
   "source": [
    "x = 4\n",
    "y = 5\n",
    "print(x != y)"
   ]
  },
  {
   "cell_type": "code",
   "execution_count": 5,
   "id": "gorgeous-school",
   "metadata": {},
   "outputs": [
    {
     "name": "stdout",
     "output_type": "stream",
     "text": [
      "True\n"
     ]
    }
   ],
   "source": [
    "x = 4\n",
    "y = 5\n",
    "print(x < y)"
   ]
  },
  {
   "cell_type": "code",
   "execution_count": 6,
   "id": "waiting-farming",
   "metadata": {},
   "outputs": [
    {
     "name": "stdout",
     "output_type": "stream",
     "text": [
      "False\n"
     ]
    }
   ],
   "source": [
    "x = 4\n",
    "y = 5\n",
    "print(x > y)"
   ]
  },
  {
   "cell_type": "code",
   "execution_count": 7,
   "id": "reported-heavy",
   "metadata": {},
   "outputs": [
    {
     "name": "stdout",
     "output_type": "stream",
     "text": [
      "True\n"
     ]
    }
   ],
   "source": [
    "x = 4\n",
    "y = 4\n",
    "print(x <= y)"
   ]
  },
  {
   "cell_type": "code",
   "execution_count": 8,
   "id": "burning-treasurer",
   "metadata": {},
   "outputs": [
    {
     "name": "stdout",
     "output_type": "stream",
     "text": [
      "True\n"
     ]
    }
   ],
   "source": [
    "x = 4\n",
    "y = 4\n",
    "print(x >= y)"
   ]
  },
  {
   "cell_type": "code",
   "execution_count": 9,
   "id": "charitable-nickname",
   "metadata": {},
   "outputs": [
    {
     "name": "stdout",
     "output_type": "stream",
     "text": [
      "False\n"
     ]
    }
   ],
   "source": [
    "x = True\n",
    "y = False\n",
    "print(x and y)"
   ]
  },
  {
   "cell_type": "code",
   "execution_count": 10,
   "id": "angry-socket",
   "metadata": {},
   "outputs": [
    {
     "name": "stdout",
     "output_type": "stream",
     "text": [
      "True\n"
     ]
    }
   ],
   "source": [
    "x = True\n",
    "y = False\n",
    "print(x or y)"
   ]
  },
  {
   "cell_type": "code",
   "execution_count": 11,
   "id": "spanish-settlement",
   "metadata": {},
   "outputs": [
    {
     "name": "stdout",
     "output_type": "stream",
     "text": [
      "False\n"
     ]
    }
   ],
   "source": [
    "x = True\n",
    "y = False\n",
    "print(not x)"
   ]
  },
  {
   "cell_type": "code",
   "execution_count": 12,
   "id": "turned-henry",
   "metadata": {},
   "outputs": [
    {
     "name": "stdout",
     "output_type": "stream",
     "text": [
      "True\n"
     ]
    }
   ],
   "source": [
    "x = True\n",
    "y = False\n",
    "print(not y)"
   ]
  },
  {
   "cell_type": "markdown",
   "id": "median-primary",
   "metadata": {},
   "source": [
    "## 4.2. Making Decisions"
   ]
  },
  {
   "cell_type": "code",
   "execution_count": 13,
   "id": "vertical-linux",
   "metadata": {},
   "outputs": [
    {
     "name": "stdout",
     "output_type": "stream",
     "text": [
      "We are on Day 4 of the challenge\n"
     ]
    }
   ],
   "source": [
    "day = 4\n",
    "\n",
    "if day == 4:\n",
    "    print(\"We are on Day 4 of the challenge\")"
   ]
  },
  {
   "cell_type": "code",
   "execution_count": 14,
   "id": "elegant-drink",
   "metadata": {},
   "outputs": [],
   "source": [
    "day = 3\n",
    "\n",
    "if day == 4:\n",
    "    print(\"We are on Day 4 of the challenge\")"
   ]
  },
  {
   "cell_type": "code",
   "execution_count": 15,
   "id": "constant-japan",
   "metadata": {},
   "outputs": [
    {
     "name": "stdout",
     "output_type": "stream",
     "text": [
      "we should sleep\n"
     ]
    }
   ],
   "source": [
    "sun = \"down\"\n",
    "\n",
    "if sun == \"down\":\n",
    "    print(\"we should sleep\")"
   ]
  },
  {
   "cell_type": "code",
   "execution_count": 16,
   "id": "induced-necessity",
   "metadata": {},
   "outputs": [],
   "source": [
    "sun = \"up\"\n",
    "\n",
    "if sun == \"down\":\n",
    "    print(\"we should sleep\")"
   ]
  },
  {
   "cell_type": "code",
   "execution_count": 17,
   "id": "anticipated-delaware",
   "metadata": {},
   "outputs": [
    {
     "name": "stdout",
     "output_type": "stream",
     "text": [
      "I will continue studying\n"
     ]
    }
   ],
   "source": [
    "sun = \"up\"\n",
    "\n",
    "if sun == \"down\":\n",
    "    print(\"We should sleep\")\n",
    "    print(\"I feel dizzy\")\n",
    "print(\"I will continue studying\")"
   ]
  },
  {
   "cell_type": "markdown",
   "id": "humanitarian-coupon",
   "metadata": {},
   "source": [
    "## 4.3. Adding Else to Your Decision"
   ]
  },
  {
   "cell_type": "code",
   "execution_count": 18,
   "id": "coated-theology",
   "metadata": {},
   "outputs": [
    {
     "name": "stdout",
     "output_type": "stream",
     "text": [
      "Go\n",
      "This code executes no matter what\n"
     ]
    }
   ],
   "source": [
    "light_color = \"green\"\n",
    "\n",
    "if light_color == \"green\":\n",
    "    print(\"Go\")\n",
    "elif light_color == \"red\":\n",
    "    print(\"Stop\")\n",
    "print(\"This code executes no matter what\")"
   ]
  },
  {
   "cell_type": "code",
   "execution_count": 19,
   "id": "canadian-selling",
   "metadata": {},
   "outputs": [
    {
     "name": "stdout",
     "output_type": "stream",
     "text": [
      "Stop\n",
      "This code executes no matter what\n"
     ]
    }
   ],
   "source": [
    "light_color = \"red\"\n",
    "\n",
    "if light_color == \"green\":\n",
    "    print(\"Go\")\n",
    "elif light_color == \"red\":\n",
    "    print(\"Stop\")\n",
    "print(\"This code executes no matter what\")"
   ]
  },
  {
   "cell_type": "code",
   "execution_count": 20,
   "id": "psychological-certification",
   "metadata": {},
   "outputs": [
    {
     "name": "stdout",
     "output_type": "stream",
     "text": [
      "This code executes no matter what\n"
     ]
    }
   ],
   "source": [
    "light_color = \"yellow\"\n",
    "\n",
    "if light_color == \"green\":\n",
    "    print(\"Go\")\n",
    "elif light_color == \"red\":\n",
    "    print(\"Stop\")\n",
    "print(\"This code executes no matter what\")"
   ]
  },
  {
   "cell_type": "code",
   "execution_count": 21,
   "id": "closed-truth",
   "metadata": {},
   "outputs": [
    {
     "name": "stdout",
     "output_type": "stream",
     "text": [
      "Proceed with caution\n",
      "This code executes no matter what\n"
     ]
    }
   ],
   "source": [
    "light_color = \"yellow\"\n",
    "\n",
    "if light_color == \"green\":\n",
    "    print(\"Go\")\n",
    "elif light_color == \"red\":\n",
    "    print(\"Stop\")\n",
    "else:\n",
    "    print(\"Proceed with caution\")\n",
    "\n",
    "print(\"This code executes no matter what\")"
   ]
  },
  {
   "cell_type": "markdown",
   "id": "rocky-arbitration",
   "metadata": {},
   "source": [
    "## 4.4. Ternary Operations"
   ]
  },
  {
   "cell_type": "code",
   "execution_count": 22,
   "id": "demonstrated-titanium",
   "metadata": {},
   "outputs": [
    {
     "name": "stdout",
     "output_type": "stream",
     "text": [
      "Have a beer\n"
     ]
    }
   ],
   "source": [
    "age = 31\n",
    "\n",
    "if age > 20:\n",
    "    beverage = \"beer\"\n",
    "else:\n",
    "    beverage = \"milk\"\n",
    "print(\"Have a \" + beverage)"
   ]
  },
  {
   "cell_type": "code",
   "execution_count": 23,
   "id": "insured-selling",
   "metadata": {},
   "outputs": [
    {
     "name": "stdout",
     "output_type": "stream",
     "text": [
      "Have a milk\n"
     ]
    }
   ],
   "source": [
    "age = 14\n",
    "\n",
    "beverage = \"beer\" if age > 20 else \"milk\"\n",
    "\n",
    "print(\"Have a \" + beverage);"
   ]
  },
  {
   "cell_type": "code",
   "execution_count": null,
   "id": "critical-carbon",
   "metadata": {},
   "outputs": [],
   "source": []
  }
 ],
 "metadata": {
  "kernelspec": {
   "display_name": "Python 3",
   "language": "python",
   "name": "python3"
  },
  "language_info": {
   "codemirror_mode": {
    "name": "ipython",
    "version": 3
   },
   "file_extension": ".py",
   "mimetype": "text/x-python",
   "name": "python",
   "nbconvert_exporter": "python",
   "pygments_lexer": "ipython3",
   "version": "3.9.7"
  }
 },
 "nbformat": 4,
 "nbformat_minor": 5
}
