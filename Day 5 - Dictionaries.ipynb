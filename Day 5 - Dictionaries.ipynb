{
 "cells": [
  {
   "cell_type": "markdown",
   "id": "funky-colleague",
   "metadata": {},
   "source": [
    "# Day 5 - Dictionaries"
   ]
  },
  {
   "cell_type": "markdown",
   "id": "potential-hobby",
   "metadata": {},
   "source": [
    "## 5.1 Creating A Dictionary For Your Data"
   ]
  },
  {
   "cell_type": "code",
   "execution_count": 1,
   "id": "needed-briefs",
   "metadata": {},
   "outputs": [],
   "source": [
    "people = {\n",
    "    'htanaka': 'Haru Tanaka',\n",
    "    'ppatel': 'Priya Patel',\n",
    "    'bagarcia': 'Benjamin Alberto Garcia',\n",
    "    'zmin': 'Zhang Min',\n",
    "    'afarooqi': 'Ayesha Farooqi',\n",
    "    'hajackson': 'Hanna Jackson',\n",
    "    'papatel': 'Pratyush Aarav Patel',\n",
    "    'hrjackson': 'Henry Jackson'\n",
    "}"
   ]
  },
  {
   "cell_type": "code",
   "execution_count": 2,
   "id": "objective-rugby",
   "metadata": {},
   "outputs": [
    {
     "name": "stdout",
     "output_type": "stream",
     "text": [
      "{'htanaka': 'Haru Tanaka', 'ppatel': 'Priya Patel', 'bagarcia': 'Benjamin Alberto Garcia', 'zmin': 'Zhang Min', 'afarooqi': 'Ayesha Farooqi', 'hajackson': 'Hanna Jackson', 'papatel': 'Pratyush Aarav Patel', 'hrjackson': 'Henry Jackson'}\n"
     ]
    }
   ],
   "source": [
    "print(people)"
   ]
  },
  {
   "cell_type": "markdown",
   "id": "tested-merit",
   "metadata": {},
   "source": [
    "## 5.2. Accessing Data"
   ]
  },
  {
   "cell_type": "code",
   "execution_count": 3,
   "id": "israeli-denver",
   "metadata": {},
   "outputs": [
    {
     "name": "stdout",
     "output_type": "stream",
     "text": [
      "Henry Jackson\n"
     ]
    }
   ],
   "source": [
    "print(people['hrjackson'])"
   ]
  },
  {
   "cell_type": "code",
   "execution_count": 4,
   "id": "sufficient-granny",
   "metadata": {},
   "outputs": [
    {
     "ename": "KeyError",
     "evalue": "0",
     "output_type": "error",
     "traceback": [
      "\u001b[1;31m---------------------------------------------------------------------------\u001b[0m",
      "\u001b[1;31mKeyError\u001b[0m                                  Traceback (most recent call last)",
      "\u001b[1;32m<ipython-input-4-fedbc9051430>\u001b[0m in \u001b[0;36m<module>\u001b[1;34m\u001b[0m\n\u001b[1;32m----> 1\u001b[1;33m \u001b[0mprint\u001b[0m\u001b[1;33m(\u001b[0m\u001b[0mpeople\u001b[0m\u001b[1;33m[\u001b[0m\u001b[1;36m0\u001b[0m\u001b[1;33m]\u001b[0m\u001b[1;33m)\u001b[0m\u001b[1;33m\u001b[0m\u001b[1;33m\u001b[0m\u001b[0m\n\u001b[0m",
      "\u001b[1;31mKeyError\u001b[0m: 0"
     ]
    }
   ],
   "source": [
    "print(people[0])"
   ]
  },
  {
   "cell_type": "code",
   "execution_count": 5,
   "id": "exciting-fifth",
   "metadata": {},
   "outputs": [
    {
     "name": "stdout",
     "output_type": "stream",
     "text": [
      "Henry Jackson\n"
     ]
    }
   ],
   "source": [
    "person = 'hrjackson'\n",
    "print(people[person])"
   ]
  },
  {
   "cell_type": "code",
   "execution_count": 6,
   "id": "downtown-coach",
   "metadata": {},
   "outputs": [
    {
     "ename": "KeyError",
     "evalue": "'hisham'",
     "output_type": "error",
     "traceback": [
      "\u001b[1;31m---------------------------------------------------------------------------\u001b[0m",
      "\u001b[1;31mKeyError\u001b[0m                                  Traceback (most recent call last)",
      "\u001b[1;32m<ipython-input-6-8c996c4d830e>\u001b[0m in \u001b[0;36m<module>\u001b[1;34m\u001b[0m\n\u001b[0;32m      1\u001b[0m \u001b[0mperson\u001b[0m \u001b[1;33m=\u001b[0m \u001b[1;34m'hisham'\u001b[0m\u001b[1;33m\u001b[0m\u001b[1;33m\u001b[0m\u001b[0m\n\u001b[1;32m----> 2\u001b[1;33m \u001b[0mprint\u001b[0m\u001b[1;33m(\u001b[0m\u001b[0mpeople\u001b[0m\u001b[1;33m[\u001b[0m\u001b[0mperson\u001b[0m\u001b[1;33m]\u001b[0m\u001b[1;33m)\u001b[0m\u001b[1;33m\u001b[0m\u001b[1;33m\u001b[0m\u001b[0m\n\u001b[0m",
      "\u001b[1;31mKeyError\u001b[0m: 'hisham'"
     ]
    }
   ],
   "source": [
    "person = 'hisham'\n",
    "print(people[person])"
   ]
  },
  {
   "cell_type": "markdown",
   "id": "confused-photograph",
   "metadata": {},
   "source": [
    "## 5.3. Length Of A Dictionary"
   ]
  },
  {
   "cell_type": "code",
   "execution_count": 7,
   "id": "auburn-proxy",
   "metadata": {
    "scrolled": true
   },
   "outputs": [
    {
     "data": {
      "text/plain": [
       "8"
      ]
     },
     "execution_count": 7,
     "metadata": {},
     "output_type": "execute_result"
    }
   ],
   "source": [
    "len(people)"
   ]
  },
  {
   "cell_type": "markdown",
   "id": "threatened-penalty",
   "metadata": {},
   "source": [
    "## 5.4. Checking whether a key exists in a dictionary"
   ]
  },
  {
   "cell_type": "code",
   "execution_count": 9,
   "id": "geological-guinea",
   "metadata": {},
   "outputs": [
    {
     "data": {
      "text/plain": [
       "True"
      ]
     },
     "execution_count": 9,
     "metadata": {},
     "output_type": "execute_result"
    }
   ],
   "source": [
    "'hrjackson' in people"
   ]
  },
  {
   "cell_type": "code",
   "execution_count": 12,
   "id": "stupid-margin",
   "metadata": {},
   "outputs": [],
   "source": [
    "person = 'hrjackson'\n",
    "if person in people:\n",
    "    print(people[person])"
   ]
  },
  {
   "cell_type": "code",
   "execution_count": 13,
   "id": "drawn-russia",
   "metadata": {},
   "outputs": [
    {
     "data": {
      "text/plain": [
       "False"
      ]
     },
     "execution_count": 13,
     "metadata": {},
     "output_type": "execute_result"
    }
   ],
   "source": [
    "'Henry Jackson' in people"
   ]
  },
  {
   "cell_type": "markdown",
   "id": "naked-automation",
   "metadata": {},
   "source": [
    "## 5.5. Getting dictionary data"
   ]
  },
  {
   "cell_type": "code",
   "execution_count": 8,
   "id": "alternate-community",
   "metadata": {},
   "outputs": [
    {
     "name": "stdout",
     "output_type": "stream",
     "text": [
      "Benjamin Alberto Garcia\n"
     ]
    }
   ],
   "source": [
    "person = 'bagarcia'\n",
    "print(people.get(person))"
   ]
  },
  {
   "cell_type": "code",
   "execution_count": 14,
   "id": "racial-hughes",
   "metadata": {},
   "outputs": [
    {
     "data": {
      "text/plain": [
       "'Benjamin Alberto Garcia'"
      ]
     },
     "execution_count": 14,
     "metadata": {},
     "output_type": "execute_result"
    }
   ],
   "source": [
    "people.get('bagarcia')"
   ]
  },
  {
   "cell_type": "code",
   "execution_count": 15,
   "id": "secondary-wrist",
   "metadata": {},
   "outputs": [],
   "source": [
    "people.get('Benjamin Alberto Garcia')"
   ]
  },
  {
   "cell_type": "markdown",
   "id": "referenced-hostel",
   "metadata": {},
   "source": [
    "## 5.6. Changing the value of a key"
   ]
  },
  {
   "cell_type": "code",
   "execution_count": 16,
   "id": "stunning-grounds",
   "metadata": {},
   "outputs": [
    {
     "name": "stdout",
     "output_type": "stream",
     "text": [
      "Benjamin Alberto Garcia\n"
     ]
    }
   ],
   "source": [
    "print(people['bagarcia'])"
   ]
  },
  {
   "cell_type": "code",
   "execution_count": 17,
   "id": "constitutional-linux",
   "metadata": {},
   "outputs": [],
   "source": [
    "people['bagarcia'] = 'Mike Jackson'"
   ]
  },
  {
   "cell_type": "code",
   "execution_count": 18,
   "id": "experienced-biology",
   "metadata": {},
   "outputs": [
    {
     "name": "stdout",
     "output_type": "stream",
     "text": [
      "Mike Jackson\n"
     ]
    }
   ],
   "source": [
    "print(people['bagarcia'])"
   ]
  },
  {
   "cell_type": "markdown",
   "id": "helpful-gardening",
   "metadata": {},
   "source": [
    "## 5.7. Adding or changing dictionary data"
   ]
  },
  {
   "cell_type": "code",
   "execution_count": 19,
   "id": "hidden-terrorist",
   "metadata": {},
   "outputs": [],
   "source": [
    "people = {\n",
    "    'helamir': 'Hisham El-Amir',\n",
    "    'mkjackson': 'Mike Jackson'\n",
    "}"
   ]
  },
  {
   "cell_type": "code",
   "execution_count": 20,
   "id": "continuous-cliff",
   "metadata": {},
   "outputs": [],
   "source": [
    "people.update({'mkjackson':'Mickey Jackson'})"
   ]
  },
  {
   "cell_type": "code",
   "execution_count": 21,
   "id": "cheap-allah",
   "metadata": {},
   "outputs": [
    {
     "name": "stdout",
     "output_type": "stream",
     "text": [
      "{'helamir': 'Hisham El-Amir', 'mkjackson': 'Mickey Jackson'}\n"
     ]
    }
   ],
   "source": [
    "print(people)"
   ]
  },
  {
   "cell_type": "code",
   "execution_count": 22,
   "id": "theoretical-integral",
   "metadata": {},
   "outputs": [],
   "source": [
    "people.update({'amjohn':'Amanda John'})"
   ]
  },
  {
   "cell_type": "code",
   "execution_count": 23,
   "id": "nearby-capital",
   "metadata": {},
   "outputs": [
    {
     "name": "stdout",
     "output_type": "stream",
     "text": [
      "{'helamir': 'Hisham El-Amir', 'mkjackson': 'Mickey Jackson', 'amjohn': 'Amanda John'}\n"
     ]
    }
   ],
   "source": [
    "print(people)"
   ]
  },
  {
   "cell_type": "markdown",
   "id": "bacterial-former",
   "metadata": {},
   "source": [
    "## 5.8. Looping through a Dictionary"
   ]
  },
  {
   "cell_type": "code",
   "execution_count": null,
   "id": "academic-authentication",
   "metadata": {},
   "outputs": [],
   "source": []
  }
 ],
 "metadata": {
  "kernelspec": {
   "display_name": "Python 3",
   "language": "python",
   "name": "python3"
  },
  "language_info": {
   "codemirror_mode": {
    "name": "ipython",
    "version": 3
   },
   "file_extension": ".py",
   "mimetype": "text/x-python",
   "name": "python",
   "nbconvert_exporter": "python",
   "pygments_lexer": "ipython3",
   "version": "3.9.7"
  }
 },
 "nbformat": 4,
 "nbformat_minor": 5
}
