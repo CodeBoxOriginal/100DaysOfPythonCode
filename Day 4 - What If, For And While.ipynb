{
 "cells": [
  {
   "cell_type": "markdown",
   "id": "waiting-enterprise",
   "metadata": {},
   "source": [
    "# Day 4 - What If..."
   ]
  },
  {
   "cell_type": "markdown",
   "id": "severe-philip",
   "metadata": {},
   "source": [
    "## 4.1. How to Compare"
   ]
  },
  {
   "cell_type": "code",
   "execution_count": 1,
   "id": "south-assessment",
   "metadata": {},
   "outputs": [
    {
     "name": "stdout",
     "output_type": "stream",
     "text": [
      "True\n"
     ]
    }
   ],
   "source": [
    "x = 4\n",
    "y = 4\n",
    "print(x == y)"
   ]
  },
  {
   "cell_type": "code",
   "execution_count": 2,
   "id": "adjacent-spain",
   "metadata": {},
   "outputs": [
    {
     "name": "stdout",
     "output_type": "stream",
     "text": [
      "False\n"
     ]
    }
   ],
   "source": [
    "x = 4\n",
    "y = 5\n",
    "print(x == y)"
   ]
  },
  {
   "cell_type": "code",
   "execution_count": 3,
   "id": "departmental-positive",
   "metadata": {},
   "outputs": [
    {
     "name": "stdout",
     "output_type": "stream",
     "text": [
      "False\n"
     ]
    }
   ],
   "source": [
    "x = 4\n",
    "y = 4\n",
    "print(x != y)"
   ]
  },
  {
   "cell_type": "code",
   "execution_count": 4,
   "id": "material-generic",
   "metadata": {},
   "outputs": [
    {
     "name": "stdout",
     "output_type": "stream",
     "text": [
      "True\n"
     ]
    }
   ],
   "source": [
    "x = 4\n",
    "y = 5\n",
    "print(x != y)"
   ]
  },
  {
   "cell_type": "code",
   "execution_count": 5,
   "id": "supreme-baltimore",
   "metadata": {},
   "outputs": [
    {
     "name": "stdout",
     "output_type": "stream",
     "text": [
      "True\n"
     ]
    }
   ],
   "source": [
    "x = 4\n",
    "y = 5\n",
    "print(x < y)"
   ]
  },
  {
   "cell_type": "code",
   "execution_count": 6,
   "id": "dangerous-academy",
   "metadata": {},
   "outputs": [
    {
     "name": "stdout",
     "output_type": "stream",
     "text": [
      "False\n"
     ]
    }
   ],
   "source": [
    "x = 4\n",
    "y = 5\n",
    "print(x > y)"
   ]
  },
  {
   "cell_type": "code",
   "execution_count": 7,
   "id": "going-missile",
   "metadata": {},
   "outputs": [
    {
     "name": "stdout",
     "output_type": "stream",
     "text": [
      "True\n"
     ]
    }
   ],
   "source": [
    "x = 4\n",
    "y = 4\n",
    "print(x <= y)"
   ]
  },
  {
   "cell_type": "code",
   "execution_count": 8,
   "id": "sublime-taxation",
   "metadata": {},
   "outputs": [
    {
     "name": "stdout",
     "output_type": "stream",
     "text": [
      "True\n"
     ]
    }
   ],
   "source": [
    "x = 4\n",
    "y = 4\n",
    "print(x >= y)"
   ]
  },
  {
   "cell_type": "code",
   "execution_count": 9,
   "id": "objective-mongolia",
   "metadata": {},
   "outputs": [
    {
     "name": "stdout",
     "output_type": "stream",
     "text": [
      "False\n"
     ]
    }
   ],
   "source": [
    "x = True\n",
    "y = False\n",
    "print(x and y)"
   ]
  },
  {
   "cell_type": "code",
   "execution_count": 10,
   "id": "educational-right",
   "metadata": {},
   "outputs": [
    {
     "name": "stdout",
     "output_type": "stream",
     "text": [
      "True\n"
     ]
    }
   ],
   "source": [
    "x = True\n",
    "y = False\n",
    "print(x or y)"
   ]
  },
  {
   "cell_type": "code",
   "execution_count": 11,
   "id": "internal-geneva",
   "metadata": {},
   "outputs": [
    {
     "name": "stdout",
     "output_type": "stream",
     "text": [
      "False\n"
     ]
    }
   ],
   "source": [
    "x = True\n",
    "y = False\n",
    "print(not x)"
   ]
  },
  {
   "cell_type": "code",
   "execution_count": 12,
   "id": "danish-exchange",
   "metadata": {},
   "outputs": [
    {
     "name": "stdout",
     "output_type": "stream",
     "text": [
      "True\n"
     ]
    }
   ],
   "source": [
    "x = True\n",
    "y = False\n",
    "print(not y)"
   ]
  },
  {
   "cell_type": "markdown",
   "id": "related-brick",
   "metadata": {},
   "source": [
    "## 4.2. Making Decisions"
   ]
  },
  {
   "cell_type": "code",
   "execution_count": 13,
   "id": "governing-eugene",
   "metadata": {},
   "outputs": [
    {
     "name": "stdout",
     "output_type": "stream",
     "text": [
      "We are on Day 4 of the challenge\n"
     ]
    }
   ],
   "source": [
    "day = 4\n",
    "\n",
    "if day == 4:\n",
    "    print(\"We are on Day 4 of the challenge\")"
   ]
  },
  {
   "cell_type": "code",
   "execution_count": 14,
   "id": "israeli-seattle",
   "metadata": {},
   "outputs": [],
   "source": [
    "day = 3\n",
    "\n",
    "if day == 4:\n",
    "    print(\"We are on Day 4 of the challenge\")"
   ]
  },
  {
   "cell_type": "code",
   "execution_count": 15,
   "id": "neutral-twelve",
   "metadata": {},
   "outputs": [
    {
     "name": "stdout",
     "output_type": "stream",
     "text": [
      "we should sleep\n"
     ]
    }
   ],
   "source": [
    "sun = \"down\"\n",
    "\n",
    "if sun == \"down\":\n",
    "    print(\"we should sleep\")"
   ]
  },
  {
   "cell_type": "code",
   "execution_count": 16,
   "id": "unlike-jones",
   "metadata": {},
   "outputs": [],
   "source": [
    "sun = \"up\"\n",
    "\n",
    "if sun == \"down\":\n",
    "    print(\"we should sleep\")"
   ]
  },
  {
   "cell_type": "code",
   "execution_count": 17,
   "id": "level-insulin",
   "metadata": {},
   "outputs": [
    {
     "name": "stdout",
     "output_type": "stream",
     "text": [
      "I will continue studying\n"
     ]
    }
   ],
   "source": [
    "sun = \"up\"\n",
    "\n",
    "if sun == \"down\":\n",
    "    print(\"We should sleep\")\n",
    "    print(\"I feel dizzy\")\n",
    "print(\"I will continue studying\")"
   ]
  },
  {
   "cell_type": "markdown",
   "id": "blond-chemistry",
   "metadata": {},
   "source": [
    "## 4.3. Adding Else to Your Decision"
   ]
  },
  {
   "cell_type": "code",
   "execution_count": 18,
   "id": "sweet-plasma",
   "metadata": {},
   "outputs": [
    {
     "name": "stdout",
     "output_type": "stream",
     "text": [
      "Go\n",
      "This code executes no matter what\n"
     ]
    }
   ],
   "source": [
    "light_color = \"green\"\n",
    "\n",
    "if light_color == \"green\":\n",
    "    print(\"Go\")\n",
    "elif light_color == \"red\":\n",
    "    print(\"Stop\")\n",
    "print(\"This code executes no matter what\")"
   ]
  },
  {
   "cell_type": "code",
   "execution_count": 19,
   "id": "academic-utility",
   "metadata": {},
   "outputs": [
    {
     "name": "stdout",
     "output_type": "stream",
     "text": [
      "Stop\n",
      "This code executes no matter what\n"
     ]
    }
   ],
   "source": [
    "light_color = \"red\"\n",
    "\n",
    "if light_color == \"green\":\n",
    "    print(\"Go\")\n",
    "elif light_color == \"red\":\n",
    "    print(\"Stop\")\n",
    "print(\"This code executes no matter what\")"
   ]
  },
  {
   "cell_type": "code",
   "execution_count": 20,
   "id": "weekly-danger",
   "metadata": {},
   "outputs": [
    {
     "name": "stdout",
     "output_type": "stream",
     "text": [
      "This code executes no matter what\n"
     ]
    }
   ],
   "source": [
    "light_color = \"yellow\"\n",
    "\n",
    "if light_color == \"green\":\n",
    "    print(\"Go\")\n",
    "elif light_color == \"red\":\n",
    "    print(\"Stop\")\n",
    "print(\"This code executes no matter what\")"
   ]
  },
  {
   "cell_type": "code",
   "execution_count": 21,
   "id": "solar-christian",
   "metadata": {},
   "outputs": [
    {
     "name": "stdout",
     "output_type": "stream",
     "text": [
      "Proceed with caution\n",
      "This code executes no matter what\n"
     ]
    }
   ],
   "source": [
    "light_color = \"yellow\"\n",
    "\n",
    "if light_color == \"green\":\n",
    "    print(\"Go\")\n",
    "elif light_color == \"red\":\n",
    "    print(\"Stop\")\n",
    "else:\n",
    "    print(\"Proceed with caution\")\n",
    "\n",
    "print(\"This code executes no matter what\")"
   ]
  },
  {
   "cell_type": "markdown",
   "id": "meaning-chemistry",
   "metadata": {},
   "source": [
    "## 4.4. Ternary Operations"
   ]
  },
  {
   "cell_type": "code",
   "execution_count": 22,
   "id": "industrial-spirituality",
   "metadata": {},
   "outputs": [
    {
     "name": "stdout",
     "output_type": "stream",
     "text": [
      "Have a beer\n"
     ]
    }
   ],
   "source": [
    "age = 31\n",
    "\n",
    "if age > 20:\n",
    "    beverage = \"beer\"\n",
    "else:\n",
    "    beverage = \"milk\"\n",
    "print(\"Have a \" + beverage)"
   ]
  },
  {
   "cell_type": "code",
   "execution_count": 23,
   "id": "figured-strength",
   "metadata": {},
   "outputs": [
    {
     "name": "stdout",
     "output_type": "stream",
     "text": [
      "Have a milk\n"
     ]
    }
   ],
   "source": [
    "age = 14\n",
    "\n",
    "beverage = \"beer\" if age > 20 else \"milk\"\n",
    "\n",
    "print(\"Have a \" + beverage);"
   ]
  },
  {
   "cell_type": "code",
   "execution_count": 24,
   "id": "demographic-pricing",
   "metadata": {},
   "outputs": [
    {
     "name": "stdout",
     "output_type": "stream",
     "text": [
      "Hisham added to the list\n"
     ]
    }
   ],
   "source": [
    "students = [\"Mark\", \"Amber\", \"Todd\", \"Anita\", \"Sandy\"]\n",
    "student_name = \"Hisham\"\n",
    "\n",
    "if student_name in students:\n",
    "    print (student_name + \" already in the list\")\n",
    "else:\n",
    "    students.append(student_name)\n",
    "\n",
    "print (student_name + \" added to the list\")"
   ]
  },
  {
   "cell_type": "markdown",
   "id": "valued-outreach",
   "metadata": {},
   "source": [
    "## 4.5. Repeating a Process"
   ]
  },
  {
   "cell_type": "code",
   "execution_count": 25,
   "id": "advisory-actor",
   "metadata": {},
   "outputs": [
    {
     "name": "stdout",
     "output_type": "stream",
     "text": [
      "0\n",
      "1\n",
      "2\n",
      "3\n",
      "4\n",
      "5\n",
      "6\n",
      "All done\n"
     ]
    }
   ],
   "source": [
    "for x in range(7):\n",
    "    print(x)\n",
    "print(\"All done\")"
   ]
  },
  {
   "cell_type": "code",
   "execution_count": 26,
   "id": "dominant-columbus",
   "metadata": {},
   "outputs": [
    {
     "name": "stdout",
     "output_type": "stream",
     "text": [
      "1\n",
      "2\n",
      "3\n",
      "4\n",
      "5\n",
      "6\n",
      "7\n",
      "8\n",
      "9\n",
      "All done\n"
     ]
    }
   ],
   "source": [
    "for x in range(1, 10):\n",
    "    print(x)\n",
    "print(\"All done\")"
   ]
  },
  {
   "cell_type": "code",
   "execution_count": 27,
   "id": "failing-density",
   "metadata": {},
   "outputs": [
    {
     "name": "stdout",
     "output_type": "stream",
     "text": [
      "1\n",
      "2\n",
      "3\n",
      "4\n",
      "5\n",
      "6\n",
      "7\n",
      "8\n",
      "9\n",
      "10\n",
      "All done\n"
     ]
    }
   ],
   "source": [
    "for x in range(1, 11):\n",
    "    print(x)\n",
    "print(\"All done\")"
   ]
  },
  {
   "cell_type": "markdown",
   "id": "explicit-bracket",
   "metadata": {},
   "source": [
    "## 4.6. Looping through a string"
   ]
  },
  {
   "cell_type": "code",
   "execution_count": 28,
   "id": "narrative-wells",
   "metadata": {},
   "outputs": [
    {
     "name": "stdout",
     "output_type": "stream",
     "text": [
      "h\n",
      "i\n",
      "s\n",
      "h\n",
      "a\n",
      "m\n",
      "Done\n"
     ]
    }
   ],
   "source": [
    "for x in \"hisham\":\n",
    " print(x)\n",
    "print(\"Done\")"
   ]
  },
  {
   "cell_type": "code",
   "execution_count": 29,
   "id": "detected-memphis",
   "metadata": {},
   "outputs": [
    {
     "name": "stdout",
     "output_type": "stream",
     "text": [
      "h\n",
      "i\n",
      "s\n",
      "h\n",
      "a\n",
      "m\n",
      "Done\n"
     ]
    }
   ],
   "source": [
    "my_name = \"hisham\"\n",
    "for x in my_name:\n",
    "    print(x)\n",
    "print(\"Done\")"
   ]
  },
  {
   "cell_type": "markdown",
   "id": "requested-christmas",
   "metadata": {},
   "source": [
    "## 4.7. Looping through a list"
   ]
  },
  {
   "cell_type": "code",
   "execution_count": 30,
   "id": "cleared-honor",
   "metadata": {},
   "outputs": [
    {
     "name": "stdout",
     "output_type": "stream",
     "text": [
      "It\n",
      "rains\n",
      "in\n",
      "London\n"
     ]
    }
   ],
   "source": [
    "for x in [\"It\", \"rains\", \"in\", \"London\"]:\n",
    "    print(x)"
   ]
  },
  {
   "cell_type": "markdown",
   "id": "atmospheric-orientation",
   "metadata": {},
   "source": [
    "## 4.8. Checking Within Loop"
   ]
  },
  {
   "cell_type": "code",
   "execution_count": 31,
   "id": "million-breakdown",
   "metadata": {},
   "outputs": [
    {
     "name": "stdout",
     "output_type": "stream",
     "text": [
      "A\n",
      "C\n",
      "B\n",
      "D\n"
     ]
    }
   ],
   "source": [
    "answers = [\"A\", \"C\", \"B\", \"D\"]\n",
    "for answer in answers:\n",
    "    print(answer)"
   ]
  },
  {
   "cell_type": "code",
   "execution_count": 32,
   "id": "sharing-female",
   "metadata": {},
   "outputs": [
    {
     "name": "stdout",
     "output_type": "stream",
     "text": [
      "You answer is A\n",
      "You answer is neither A or B\n",
      "You answer is B\n",
      "You answer is neither A or B\n"
     ]
    }
   ],
   "source": [
    "answers = [\"A\", \"C\", \"B\", \"D\"]\n",
    "for answer in answers:\n",
    "    if answer == \"A\":\n",
    "        print(\"You answer is A\")\n",
    "    elif answer == \"B\":\n",
    "        print(\"You answer is B\")\n",
    "    else:\n",
    "        print(\"You answer is neither A or B\")"
   ]
  },
  {
   "cell_type": "markdown",
   "id": "still-thunder",
   "metadata": {},
   "source": [
    "## 4.9. Get out of a loop"
   ]
  },
  {
   "cell_type": "code",
   "execution_count": 33,
   "id": "classical-termination",
   "metadata": {},
   "outputs": [
    {
     "name": "stdout",
     "output_type": "stream",
     "text": [
      "You answer is A\n",
      "You answer is neither A or B\n"
     ]
    }
   ],
   "source": [
    "answers = [\"A\", \"C\", \"B\", \"D\"]\n",
    "for answer in answers:\n",
    "    if answer == \"A\":\n",
    "        print(\"You answer is A\")\n",
    "    elif answer == \"B\":\n",
    "        print(\"You answer is B\")\n",
    "    else:\n",
    "        print(\"You answer is neither A or B\")\n",
    "        break"
   ]
  },
  {
   "cell_type": "markdown",
   "id": "senior-canon",
   "metadata": {},
   "source": [
    "## 4.10 Looping with continue"
   ]
  },
  {
   "cell_type": "code",
   "execution_count": 34,
   "id": "extra-plastic",
   "metadata": {},
   "outputs": [
    {
     "name": "stdout",
     "output_type": "stream",
     "text": [
      "A\n",
      "C\n",
      "Incomplete\n",
      "D\n",
      "Loop is done\n"
     ]
    }
   ],
   "source": [
    "answers = [\"A\", \"C\", \"\", \"D\"]\n",
    "\n",
    "for answer in answers:\n",
    "    if answer == \"\":\n",
    "        print(\"Incomplete\")\n",
    "        continue\n",
    "    print(answer)\n",
    "print(\"Loop is done\")"
   ]
  },
  {
   "cell_type": "markdown",
   "id": "representative-thermal",
   "metadata": {},
   "source": [
    "## 4.11. Else With For"
   ]
  },
  {
   "cell_type": "code",
   "execution_count": 35,
   "id": "about-estonia",
   "metadata": {},
   "outputs": [
    {
     "name": "stdout",
     "output_type": "stream",
     "text": [
      "A\n",
      "C\n",
      "Incomplete\n",
      "D\n",
      "Loop is done\n"
     ]
    }
   ],
   "source": [
    "answers = [\"A\", \"C\", \"\", \"D\"]\n",
    "\n",
    "for answer in answers:\n",
    "    if answer == \"\":\n",
    "        print(\"Incomplete\")\n",
    "        continue\n",
    "    print(answer)\n",
    "else:\n",
    "    print(\"Loop is done\")"
   ]
  },
  {
   "cell_type": "code",
   "execution_count": 37,
   "id": "electric-happiness",
   "metadata": {},
   "outputs": [
    {
     "name": "stdout",
     "output_type": "stream",
     "text": [
      "You answer is A\n",
      "You answer is neither A or B\n",
      "Loop is done\n"
     ]
    }
   ],
   "source": [
    "answers = [\"A\", \"C\", \"B\", \"D\"]\n",
    "for answer in answers:\n",
    "    if answer == \"A\":\n",
    "        print(\"You answer is A\")\n",
    "    elif answer == \"B\":\n",
    "        print(\"You answer is B\")\n",
    "    else:\n",
    "        print(\"You answer is neither A or B\")\n",
    "        break\n",
    "print(\"Loop is done\")"
   ]
  },
  {
   "cell_type": "code",
   "execution_count": 38,
   "id": "capital-convention",
   "metadata": {},
   "outputs": [
    {
     "name": "stdout",
     "output_type": "stream",
     "text": [
      "You answer is A\n",
      "You answer is neither A or B\n"
     ]
    }
   ],
   "source": [
    "answers = [\"A\", \"C\", \"B\", \"D\"]\n",
    "for answer in answers:\n",
    "    if answer == \"A\":\n",
    "        print(\"You answer is A\")\n",
    "    elif answer == \"B\":\n",
    "        print(\"You answer is B\")\n",
    "    else:\n",
    "        print(\"You answer is neither A or B\")\n",
    "        break\n",
    "else:\n",
    "    print(\"Loop is done\")"
   ]
  },
  {
   "cell_type": "markdown",
   "id": "still-witch",
   "metadata": {},
   "source": [
    "## 4.12. Nesting Loops"
   ]
  },
  {
   "cell_type": "code",
   "execution_count": 40,
   "id": "social-ukraine",
   "metadata": {},
   "outputs": [
    {
     "name": "stdout",
     "output_type": "stream",
     "text": [
      "Floor A\n",
      "Class A1\n",
      "Class A2\n",
      "Class A3\n",
      "Floor B\n",
      "Class B1\n",
      "Class B2\n",
      "Class B3\n",
      "Floor C\n",
      "Class C1\n",
      "Class C2\n",
      "Class C3\n"
     ]
    }
   ],
   "source": [
    "for outer in [\"A\", \"B\", \"C\"]:\n",
    "    print(\"Floor \" + outer)\n",
    "    for inner in range(1, 4):\n",
    "        print(\"Class \" + outer + str(inner))"
   ]
  },
  {
   "cell_type": "markdown",
   "id": "laden-porcelain",
   "metadata": {},
   "source": [
    "## 4.13. Looping with while"
   ]
  },
  {
   "cell_type": "code",
   "execution_count": 42,
   "id": "packed-singer",
   "metadata": {},
   "outputs": [
    {
     "name": "stdout",
     "output_type": "stream",
     "text": [
      "65=A\n",
      "66=B\n",
      "67=C\n",
      "68=D\n",
      "69=E\n",
      "70=F\n",
      "71=G\n",
      "72=H\n",
      "73=I\n",
      "74=J\n",
      "75=K\n",
      "76=L\n",
      "77=M\n",
      "78=N\n",
      "79=O\n",
      "80=P\n",
      "81=Q\n",
      "82=R\n",
      "83=S\n",
      "84=T\n",
      "85=U\n",
      "86=V\n",
      "87=W\n",
      "88=X\n",
      "89=Y\n",
      "90=Z\n",
      "done\n"
     ]
    }
   ],
   "source": [
    "counter = 65\n",
    "while counter < 91:\n",
    "    print(str(counter) + \"=\" + chr(counter))\n",
    "    counter += 1\n",
    "else:\n",
    "    print(\"done\")"
   ]
  },
  {
   "cell_type": "code",
   "execution_count": null,
   "id": "interested-chile",
   "metadata": {},
   "outputs": [],
   "source": []
  }
 ],
 "metadata": {
  "kernelspec": {
   "display_name": "Python 3",
   "language": "python",
   "name": "python3"
  },
  "language_info": {
   "codemirror_mode": {
    "name": "ipython",
    "version": 3
   },
   "file_extension": ".py",
   "mimetype": "text/x-python",
   "name": "python",
   "nbconvert_exporter": "python",
   "pygments_lexer": "ipython3",
   "version": "3.9.7"
  }
 },
 "nbformat": 4,
 "nbformat_minor": 5
}
